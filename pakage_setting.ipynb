{
 "cells": [
  {
   "cell_type": "code",
   "execution_count": 1,
   "id": "7f71b24a",
   "metadata": {},
   "outputs": [
    {
     "name": "stdout",
     "output_type": "stream",
     "text": [
      "Current working directory: E:\\Python_00781035\\OC_2021_project\n",
      "os.getcwd() returns an object of type: <class 'str'>\n"
     ]
    }
   ],
   "source": [
    "# Import the os module\n",
    "import os\n",
    "\n",
    "# Get the current working directory\n",
    "cwd = os.getcwd()\n",
    "\n",
    "# Print the current working directory\n",
    "print(\"Current working directory: {0}\".format(cwd))\n",
    "\n",
    "# Print the type of the returned object\n",
    "print(\"os.getcwd() returns an object of type: {0}\".format(type(cwd)))"
   ]
  },
  {
   "cell_type": "code",
   "execution_count": 2,
   "id": "b6f3c500",
   "metadata": {},
   "outputs": [
    {
     "name": "stdout",
     "output_type": "stream",
     "text": [
      "Current working directory: E:\\Python_00781035\\OC_2021_project\\data\n"
     ]
    }
   ],
   "source": [
    "# Change the current working directory\n",
    "os.chdir('E:\\Python_00781035\\OC_2021_project\\data')\n",
    "\n",
    "# Print the current working directory\n",
    "print(\"Current working directory: {0}\".format(os.getcwd()))\n"
   ]
  },
  {
   "cell_type": "code",
   "execution_count": 3,
   "id": "fb06cca8",
   "metadata": {},
   "outputs": [],
   "source": [
    "os.chdir('E:\\Python_00781035\\OC_2021_project')\n",
    "%matplotlib inline\n",
    "import numpy as np\n",
    "import pandas as pd\n",
    "import matplotlib.pyplot as plt"
   ]
  },
  {
   "cell_type": "code",
   "execution_count": 4,
   "id": "ba4e39d7",
   "metadata": {},
   "outputs": [],
   "source": [
    "x = np.linspace(-np.pi,np.pi,100)\n",
    "y = np.sin(x)"
   ]
  },
  {
   "cell_type": "code",
   "execution_count": 5,
   "id": "a04b37a8",
   "metadata": {},
   "outputs": [
    {
     "data": {
      "text/plain": [
       "[<matplotlib.lines.Line2D at 0x1f91c465d08>]"
      ]
     },
     "execution_count": 5,
     "metadata": {},
     "output_type": "execute_result"
    },
    {
     "data": {
      "image/png": "[encoded data removed]",
      "text/plain": [
       "<Figure size 432x288 with 1 Axes>"
      ]
     },
     "metadata": {
      "needs_background": "light"
     },
     "output_type": "display_data"
    }
   ],
   "source": [
    "plt.plot(x,y,'r-')"
   ]
  },
  {
   "cell_type": "code",
   "execution_count": 6,
   "id": "5e8f6877",
   "metadata": {},
   "outputs": [
    {
     "data": {
      "text/plain": [
       "<matplotlib.image.AxesImage at 0x1f9257eff88>"
      ]
     },
     "execution_count": 6,
     "metadata": {},
     "output_type": "execute_result"
    },
    {
     "data": {
      "image/png": "[encoded data removed]",
      "text/plain": [
       "<Figure size 432x288 with 1 Axes>"
      ]
     },
     "metadata": {
      "needs_background": "light"
     },
     "output_type": "display_data"
    }
   ],
   "source": [
    "# 由Keras讀入MNIST (6萬筆訓練資料，1萬筆測試資料)\n",
    "from tensorflow.keras.datasets import mnist \n",
    "(x_train, y_train), (x_test, y_test) = mnist.load_data()\n",
    "# len(x_train)\n",
    "# len(y_train)\n",
    "# x_train[87].shape\n",
    "plt.imshow(x_train[87], cmap='Greys')"
   ]
  },
  {
   "cell_type": "code",
   "execution_count": 7,
   "id": "f83e07ea",
   "metadata": {},
   "outputs": [],
   "source": [
    "# x_train.shape # (60000, 28, 28)\n",
    "# x_test.shape # (10000, 28, 28)\n",
    "x_train = x_train.reshape(60000, 784)\n",
    "x_test = x_test.reshape(10000, 784)"
   ]
  },
  {
   "cell_type": "code",
   "execution_count": 8,
   "id": "b45fe46b",
   "metadata": {},
   "outputs": [
    {
     "data": {
      "text/plain": [
       "array([0., 0., 0., 0., 0., 0., 0., 0., 0., 1.], dtype=float32)"
      ]
     },
     "execution_count": 8,
     "metadata": {},
     "output_type": "execute_result"
    }
   ],
   "source": [
    "from tensorflow.keras.utils import to_categorical #讀入工具套件\n",
    "y_train = to_categorical(y_train, 10) # 進行\"1-hot enconding\"轉換，共有10種輸出\n",
    "y_test = to_categorical(y_test, 10) # 進行\"1-hot enconding\"轉換，共有10種輸出\n",
    "y_train[87]"
   ]
  },
  {
   "cell_type": "code",
   "execution_count": 9,
   "id": "3fabdfa2",
   "metadata": {},
   "outputs": [],
   "source": [
    "from tensorflow.keras.models import Sequential # 讀入Sequential工具\n",
    "from tensorflow.keras.layers import Dense, Activation # 讀入Dense和Activation工具\n",
    "from tensorflow.keras.optimizers import SGD # 讀入SGD工具"
   ]
  },
  {
   "cell_type": "code",
   "execution_count": 10,
   "id": "4725ff6b",
   "metadata": {},
   "outputs": [],
   "source": [
    "model = Sequential() # 建立一個空的神經網路\n",
    "model.add(Dense(500, input_dim=784)) # 從第一個隱藏層開始，每次用 add 去加一層神經網路 (500個神經元)\n",
    "model.add(Activation('sigmoid')) # 第一個隱藏層的激活函數選擇'sigmoid'\n",
    "model.add(Dense(500)) # 第二個隱藏層 (500個神經元)\n",
    "model.add(Activation('sigmoid')) # 第二個隱藏層的激活函數選擇'sigmoid'"
   ]
  },
  {
   "cell_type": "code",
   "execution_count": 11,
   "id": "7239b666",
   "metadata": {},
   "outputs": [],
   "source": [
    "model.add(Dense(10))\n",
    "model.add(Activation('softmax'))"
   ]
  },
  {
   "cell_type": "code",
   "execution_count": 12,
   "id": "c44c1457",
   "metadata": {},
   "outputs": [],
   "source": [
    "model.compile(loss='mse', optimizer=SGD(learning_rate=0.1),metrics=['accuracy'])"
   ]
  },
  {
   "cell_type": "code",
   "execution_count": 13,
   "id": "cb6f86fb",
   "metadata": {},
   "outputs": [
    {
     "name": "stdout",
     "output_type": "stream",
     "text": [
      "Model: \"sequential\"\n",
      "_________________________________________________________________\n",
      "Layer (type)                 Output Shape              Param #   \n",
      "=================================================================\n",
      "dense (Dense)                (None, 500)               392500    \n",
      "_________________________________________________________________\n",
      "activation (Activation)      (None, 500)               0         \n",
      "_________________________________________________________________\n",
      "dense_1 (Dense)              (None, 500)               250500    \n",
      "_________________________________________________________________\n",
      "activation_1 (Activation)    (None, 500)               0         \n",
      "_________________________________________________________________\n",
      "dense_2 (Dense)              (None, 10)                5010      \n",
      "_________________________________________________________________\n",
      "activation_2 (Activation)    (None, 10)                0         \n",
      "=================================================================\n",
      "Total params: 648,010\n",
      "Trainable params: 648,010\n",
      "Non-trainable params: 0\n",
      "_________________________________________________________________\n"
     ]
    }
   ],
   "source": [
    "model.summary()"
   ]
  },
  {
   "cell_type": "code",
   "execution_count": null,
   "id": "9336170c",
   "metadata": {},
   "outputs": [],
   "source": []
  },
  {
   "cell_type": "code",
   "execution_count": null,
   "id": "f4b8ef80",
   "metadata": {},
   "outputs": [],
   "source": []
  },
  {
   "cell_type": "code",
   "execution_count": null,
   "id": "eaac4e37",
   "metadata": {},
   "outputs": [],
   "source": []
  },
  {
   "cell_type": "code",
   "execution_count": null,
   "id": "924e3cb6",
   "metadata": {},
   "outputs": [],
   "source": []
  }
 ],
 "metadata": {
  "kernelspec": {
   "display_name": "Python 3",
   "language": "python",
   "name": "python3"
  },
  "language_info": {
   "codemirror_mode": {
    "name": "ipython",
    "version": 3
   },
   "file_extension": ".py",
   "mimetype": "text/x-python",
   "name": "python",
   "nbconvert_exporter": "python",
   "pygments_lexer": "ipython3",
   "version": "3.7.11"
  }
 },
 "nbformat": 4,
 "nbformat_minor": 5
}
